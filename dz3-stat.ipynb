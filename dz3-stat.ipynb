{
 "cells": [
  {
   "cell_type": "code",
   "execution_count": null,
   "metadata": {},
   "outputs": [],
   "source": [
    "\"\"\"Смоделировать игру против лотерейного автомата типа “777”. Игрок платит 1 руб., после чего выпадает случайное целое \n",
    "число, равномерно распределенное от 0 до 999. При некоторых значениях числа игрок получает выигрыш.\n",
    "\n",
    "777: 200 руб.\n",
    "999: 100 руб.\n",
    "555: 50 руб.\n",
    "333: 15 руб.\n",
    "111: 10 руб.\n",
    "*77: 5 руб.\n",
    "**7: 3 руб.\n",
    "*00: 2 руб.\n",
    "**0: 1 руб.\n",
    "\n",
    "Вопросы:\n",
    "\n",
    "Выгодна ли игра игроку?\n",
    "Сколько в среднем приобретает или теряет игрок за одну игру?\"\"\""
   ]
  },
  {
   "cell_type": "code",
   "execution_count": 1,
   "metadata": {},
   "outputs": [],
   "source": [
    "import numpy as np"
   ]
  },
  {
   "cell_type": "code",
   "execution_count": 16,
   "metadata": {},
   "outputs": [
    {
     "name": "stdout",
     "output_type": "stream",
     "text": [
      "799 1000 0.799\n"
     ]
    }
   ],
   "source": [
    "trials = 1000     # количество попыток\n",
    "win = 0    # количество успехов\n",
    "\n",
    "for i in range(trials):\n",
    "    random_number = np.random.randint(0, 1000)    \n",
    "    if random_number == 777:\n",
    "        win += 200\n",
    "    if random_number == 999:\n",
    "        win += 100\n",
    "    if random_number == 555:\n",
    "        win += 50\n",
    "    if random_number == 333:\n",
    "        win += 15\n",
    "    if random_number == 111:\n",
    "        win += 10\n",
    "    if random_number % 100 == 70 and random_number % 10 == 7:\n",
    "        win += 5\n",
    "    if random_number % 10 == 7:\n",
    "        win += 3\n",
    "    if random_number % 100 == 0 and random_number % 10 == 0:\n",
    "        win += 2\n",
    "    if random_number % 10 == 0:\n",
    "        win += 1\n",
    "\n",
    "p_model = win / trials # вероятность из моделирования\n",
    "\n",
    "    \n",
    "print(win, trials, p_model)"
   ]
  },
  {
   "cell_type": "code",
   "execution_count": 17,
   "metadata": {},
   "outputs": [
    {
     "data": {
      "text/plain": [
       "-201"
      ]
     },
     "execution_count": 17,
     "metadata": {},
     "output_type": "execute_result"
    }
   ],
   "source": [
    "# выгодна ли игра игроку? если prize < 0 - не выгодна. если prize > 0 - выгодна\n",
    "\n",
    "prize = win - trials*1\n",
    "\n",
    "\n",
    "\n",
    "prize"
   ]
  },
  {
   "cell_type": "code",
   "execution_count": 18,
   "metadata": {},
   "outputs": [
    {
     "data": {
      "text/plain": [
       "0.799"
      ]
     },
     "execution_count": 18,
     "metadata": {},
     "output_type": "execute_result"
    }
   ],
   "source": [
    "# Сколько в среднем приобретает или теряет игрок за одну игру?\n",
    "\n",
    "mean_prize = win / trials*1\n",
    "\n",
    "mean_prize"
   ]
  }
 ],
 "metadata": {
  "kernelspec": {
   "display_name": "Python 3",
   "language": "python",
   "name": "python3"
  },
  "language_info": {
   "codemirror_mode": {
    "name": "ipython",
    "version": 3
   },
   "file_extension": ".py",
   "mimetype": "text/x-python",
   "name": "python",
   "nbconvert_exporter": "python",
   "pygments_lexer": "ipython3",
   "version": "3.8.5"
  }
 },
 "nbformat": 4,
 "nbformat_minor": 4
}
